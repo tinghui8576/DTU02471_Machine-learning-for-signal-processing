{
 "cells": [
  {
   "cell_type": "markdown",
   "metadata": {},
   "source": [
    "# 5.1"
   ]
  },
  {
   "cell_type": "markdown",
   "metadata": {},
   "source": [
    "![title](5_1.png)"
   ]
  },
  {
   "cell_type": "markdown",
   "metadata": {},
   "source": [
    "## Exercise 5.1.1\n",
    "### For which value of β will this correspond to Ridge regression?\n",
    "β = 1"
   ]
  },
  {
   "cell_type": "markdown",
   "metadata": {},
   "source": [
    "## Exercise 5.1.2\n",
    "### What happens with the regularization term (the last term) as we observe more data\n",
    "If β is between 0 and 1, the regularization term will decrease when we observe more data. Because we don't need to worry too much about overfitting when more data acquired, the regularization term is not that required."
   ]
  },
  {
   "cell_type": "markdown",
   "metadata": {},
   "source": [
    "## Exercise 5.1.3\n",
    "### Find an expression for the derivative of J(θ,β,λ) with respect to θ and set the derivative to zero. This will readily give the expressions\n",
    "### $$ Φ_n = \\sum_{i=0}^n \\beta^{n-i}x_ix_i^T+\\lambda\\beta^{n+1}I $$\n",
    "### $$ p_n = \\sum_{i=0}^{n}\\beta^{n-i}x_iy_i $$\n",
    "### $$ \\theta_n = Φ_n^{-1}p_n $$\n",
    "\n",
    "$$ J(\\theta, \\beta, \\lambda) = \\sum_{i=0}^{n} \\beta^{n-i}(y_i-\\theta^Tx_i)^2 + \\lambda \\beta^{n+1} ||\\theta||^2 \\\\\n",
    "\\frac{\\partial J(\\theta, \\beta, \\lambda)}{\\partial \\theta} = -2\\sum_{i=0}^{n} \\beta^{n-i}(y_i-\\theta^Tx_i)x_i + 2\\lambda \\beta^{n+1} ||\\theta|| \\\\\n",
    "= -2(\\sum_{i=0}^{n} \\beta^{n-i}y_ix_i -\\sum_{i=0}^{n} \\beta^{n-i}\\theta^Tx_ix_i) + 2\\lambda \\beta^{n+1} ||\\theta|| \\\\\n",
    "= -2p_n + 2 \\sum_{i=0}^{n} \\beta^{n-i}x_ix_i^T\\theta + 2\\lambda \\beta^{n+1} ||\\theta|| \\\\\n",
    "= -2 p_n + 2 Φ_n \\theta = 0 \\\\\n",
    "p_n = Φ_n \\theta "
   ]
  },
  {
   "cell_type": "markdown",
   "metadata": {},
   "source": [
    "## Exercise 5.1.4\n",
    "### The goal is to find an iterative scheme for $θ_n$.  Next step to achieve this goal is to create thetime–iterative updates for $Φ_n$ and $p_n$. First write out the expressions for $Φ_{n-1}$ and $p_{n-1}$ by replacingn with n−1 in the above formulas. Next, manipulate the original expressions for $Φ_n$ and $p_n$ to get\n",
    "### $$Φ_n = \\beta Φ_{n-1} + x_nx_n^T$$\n",
    "### $$p_n = \\beta p_{n-1} + x_ny_n$$\n",
    "\n",
    "$$ Φ_n = \\sum_{i=0}^n \\beta^{n-i}x_ix_i^T+\\lambda\\beta^{n+1}I \\\\\n",
    "       = \\sum_{i=0}^{n-1} \\beta^{n-i}x_ix_i^T+ \\beta^{n-n}x_ix_i^T + \\lambda\\beta^{n+1}I \\\\\n",
    "       = \\beta (\\sum_{i=0}^{n-1} \\beta^{n-i-1}x_ix_i^T+ \\lambda\\beta^{n}I) + x_ix_i^T \\\\\n",
    "(Φ_{n-1} = \\beta (\\sum_{i=0}^{n-1} \\beta^{n-i-1}x_ix_i^T+ \\lambda\\beta^{n-1+1}I) )\\\\\n",
    "      = \\beta (Φ_{n-1}) + x_ix_i^T \\\\ $$\n",
    "\n",
    "\n",
    "$$p_n = \\sum_{i=0}^{n}\\beta^{n-i}x_iy_i \\\\\n",
    "= \\sum_{i=0}^{n-1}\\beta^{n-i}x_iy_i+ \\beta^{n-n}x_ny_n \\\\\n",
    "= \\beta(\\sum_{i=0}^{n-1}\\beta^{n-i-1}x_iy_i) + x_ny_n \\\\\n",
    "= \\beta(p_{n-1}) + x_ny_n \\\\ $$"
   ]
  },
  {
   "cell_type": "markdown",
   "metadata": {},
   "source": [
    "## Exercise 5.1.5\n",
    "### To arrive at the primary result (eq 6.44 and 6.45 in the book), we use Woodburry’s inversionformula\n",
    "### $$ (A+(BD^{-1}C)^{-1}) = A^{-1} - A^{-1}B(D+CA^{-1}B)^{-1}CA^{-1} $$\n",
    "$$ A = \\betaΦ_{n-1}, B = x_n, C = x_n^T, D=1 $$"
   ]
  },
  {
   "cell_type": "markdown",
   "metadata": {},
   "source": [
    "$$ Φ_n^{-1} = (\\beta Φ_{n-1} + x_nx_n^T)^{-1} \\\\ \n",
    "= \\beta^{-1} Φ_{n-1}^{-1} - \\beta^{-1} Φ_{n-1}^{-1} x_n(1 + x_n^T \\beta^{-1} Φ_{n-1}^{-1} x_n)^{-1} x_n^{T} \\beta^{-1} Φ_{n-1}^{-1} \\\\\n",
    "= \\beta^{-1} Φ_{n-1}^{-1} - \\beta^{-1} \\frac{Φ_{n-1}^{-1} x_n  \\beta^{-1} }{(1 + x_n^T \\beta^{-1} Φ_{n-1}^{-1} x_n)}x_n^{T}Φ_{n-1}^{-1} \\\\\n",
    "= \\beta^{-1} Φ_{n-1}^{-1} - \\beta^{-1} \\frac{Φ_{n-1}^{-1} x_n  \\beta^{-1} }{(1 + x_n^T \\beta^{-1} Φ_{n-1}^{-1} x_n)}x_n^{T}Φ_{n-1}^{-1} \\\\\n",
    "Φ_n^{-1} = \\beta^{-1} Φ_{n-1}^{-1} - \\beta^{-1} k_n x_n^{T}Φ_{n-1}^{-1} \\\\\n",
    "k_n  = \\frac{Φ_{n-1}^{-1} x_n  \\beta^{-1} }{(1 + x_n^T \\beta^{-1} Φ_{n-1}^{-1} x_n)}\n",
    "$$"
   ]
  },
  {
   "cell_type": "markdown",
   "metadata": {},
   "source": [
    "## Exercise 5.1.6 (This is a difficult exercise)\n",
    "### Now we have time–iterative expressions for $Φ_n$ and $p_n$.  Show by substituting the expressions into $ \\theta_n = Φ_n^{-1}p_n $ and defining $e_n=y_n−θ^T_{n−1}x_n$, that $\\theta_n = \\theta_{n-1} + k_ne_n $"
   ]
  },
  {
   "cell_type": "markdown",
   "metadata": {},
   "source": [
    "$$ \\theta_n = Φ_n^{-1}p_n \n",
    "= Φ_n^{-1} (\\beta p_{n-1} + x_n y_n)\n",
    "= Φ_n^{-1} \\beta p_{n-1} + Φ_n^{-1} x_n y_n \\\\\n",
    "= (\\beta^{-1} Φ_{n-1}^{-1} - \\beta^{-1} k_n x_n^{T}Φ_{n-1}^{-1})\\beta p_{n-1} + Φ_n^{-1} x_n y_n \\\\\n",
    "=  p_{n-1} Φ_{n-1}^{-1} -  k_n x_n^{T}Φ_{n-1}^{-1} p_{n-1} + Φ_n^{-1} x_n y_n \\\\\n",
    "= \\theta_{n-1} - k_n x_n^{T} \\theta_{n-1} + Φ_n^{-1} x_n y_n \\\\\n",
    "$$\n",
    "\n",
    "\n",
    "$$ k_n  = \\frac{Φ_{n-1}^{-1} x_n  \\beta^{-1} }{(1 + x_n^T \\beta^{-1} Φ_{n-1}^{-1} x_n)} \\\\\n",
    "=> k_n(1 + x_n^T \\beta^{-1} Φ_{n-1}^{-1} x_n)= Φ_{n-1}^{-1} x_n  \\beta^{-1} \\\\\n",
    "=> k_n = Φ_{n-1}^{-1} x_n  \\beta^{-1} - k_nx_n^T \\beta^{-1} Φ_{n-1}^{-1} x_n \\\\\n",
    "=> k_n = (Φ_{n-1}^{-1} \\beta^{-1} - k_nx_n^T \\beta^{-1} Φ_{n-1}^{-1} ) x_n \\\\\n",
    "=> k_n = Φ_{n}^{-1}  x_n \\\\\n",
    "$$\n",
    "\n",
    "$$ \n",
    "\\theta_n = \\theta_{n-1} - k_n x_n^{T} \\theta_{n-1} + Φ_n^{-1} x_n y_n \\\\\n",
    "= \\theta_{n-1} - k_n x_n^{T} \\theta_{n-1} + k_n y_n \\\\\n",
    "= \\theta_{n-1} + k_n ( y_n - x_n^{T} \\theta_{n-1}) \\\\\n",
    "= \\theta_{n-1} + k_n ( y_n - \\theta_{n-1}^{T} x_n ) \\\\\n",
    "= \\theta_{n-1} + k_n e_n \\\\"
   ]
  },
  {
   "cell_type": "markdown",
   "metadata": {},
   "source": []
  }
 ],
 "metadata": {
  "kernelspec": {
   "display_name": "Python 3",
   "language": "python",
   "name": "python3"
  },
  "language_info": {
   "codemirror_mode": {
    "name": "ipython",
    "version": 3
   },
   "file_extension": ".py",
   "mimetype": "text/x-python",
   "name": "python",
   "nbconvert_exporter": "python",
   "pygments_lexer": "ipython3",
   "version": "3.11.4"
  }
 },
 "nbformat": 4,
 "nbformat_minor": 2
}
